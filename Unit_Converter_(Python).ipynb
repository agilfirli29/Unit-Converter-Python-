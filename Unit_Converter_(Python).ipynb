{
  "nbformat": 4,
  "nbformat_minor": 0,
  "metadata": {
    "colab": {
      "provenance": []
    },
    "kernelspec": {
      "name": "python3",
      "display_name": "Python 3"
    },
    "language_info": {
      "name": "python"
    }
  },
  "cells": [
    {
      "cell_type": "markdown",
      "source": [
        "# **Unit Converter (Python)**"
      ],
      "metadata": {
        "id": "mi5oxfO9lHGN"
      }
    },
    {
      "cell_type": "code",
      "source": [
        "def convert_length(value, from_unit, to_unit):\n",
        "    units = {\n",
        "        'meter': 1,\n",
        "        'kilometer': 1000,\n",
        "        'centimeter': 0.01,\n",
        "        'millimeter': 0.001,\n",
        "        'mile': 1609.34,\n",
        "        'yard': 0.9144,\n",
        "        'foot': 0.3048\n",
        "    }\n",
        "    value_in_meters = value * units[from_unit]\n",
        "    return value_in_meters / units[to_unit]\n",
        "\n",
        "def convert_weight(value, from_unit, to_unit):\n",
        "    units = {\n",
        "        'kilogram': 1,\n",
        "        'gram': 0.001,\n",
        "        'milligram': 0.000001,\n",
        "        'pound': 0.453592,\n",
        "        'ounce': 0.0283495\n",
        "    }\n",
        "    value_in_kilograms = value * units[from_unit]\n",
        "    return value_in_kilograms / units[to_unit]\n",
        "\n",
        "def convert_temperature(value, from_unit, to_unit):\n",
        "    if from_unit == 'celsius':\n",
        "        if to_unit == 'fahrenheit':\n",
        "            return (value * 9/5) + 32\n",
        "        elif to_unit == 'kelvin':\n",
        "            return value + 273.15\n",
        "        else:\n",
        "            return value\n",
        "    elif from_unit == 'fahrenheit':\n",
        "        if to_unit == 'celsius':\n",
        "            return (value - 32) * 5/9\n",
        "        elif to_unit == 'kelvin':\n",
        "            return (value - 32) * 5/9 + 273.15\n",
        "        else:\n",
        "            return value\n",
        "    elif from_unit == 'kelvin':\n",
        "        if to_unit == 'celsius':\n",
        "            return value - 273.15\n",
        "        elif to_unit == 'fahrenheit':\n",
        "            return (value - 273.15) * 9/5 + 32\n",
        "        else:\n",
        "            return value\n",
        "\n",
        "def main():\n",
        "    while True:\n",
        "        print(\"\\nUnit Converter\")\n",
        "        print(\"1. Length\")\n",
        "        print(\"2. Weight\")\n",
        "        print(\"3. Temperature\")\n",
        "        print(\"4. Exit\")\n",
        "\n",
        "        choice = input(\"Choose the type of conversion (1/2/3/4): \")\n",
        "\n",
        "        if choice == '1':\n",
        "            value = float(input(\"Enter value: \"))\n",
        "            from_unit = input(\"From unit (meter, kilometer, centimeter, millimeter, mile, yard, foot): \").lower()\n",
        "            to_unit = input(\"To unit (meter, kilometer, centimeter, millimeter, mile, yard, foot): \").lower()\n",
        "            result = convert_length(value, from_unit, to_unit)\n",
        "            print(f\"{value} {from_unit} = {result} {to_unit}\")\n",
        "\n",
        "        elif choice == '2':\n",
        "            value = float(input(\"Enter value: \"))\n",
        "            from_unit = input(\"From unit (kilogram, gram, milligram, pound, ounce): \").lower()\n",
        "            to_unit = input(\"To unit (kilogram, gram, milligram, pound, ounce): \").lower()\n",
        "            result = convert_weight(value, from_unit, to_unit)\n",
        "            print(f\"{value} {from_unit} = {result} {to_unit}\")\n",
        "\n",
        "        elif choice == '3':\n",
        "            value = float(input(\"Enter value: \"))\n",
        "            from_unit = input(\"From unit (celsius, fahrenheit, kelvin): \").lower()\n",
        "            to_unit = input(\"To unit (celsius, fahrenheit, kelvin): \").lower()\n",
        "            result = convert_temperature(value, from_unit, to_unit)\n",
        "            print(f\"{value} {from_unit} = {result} {to_unit}\")\n",
        "\n",
        "        elif choice == '4':\n",
        "            print(\"Thank you for using the Unit Converter\")\n",
        "            break\n",
        "\n",
        "        else:\n",
        "            print(\"Invalid choice! Please select a valid option.\")\n",
        "\n",
        "if __name__ == \"__main__\":\n",
        "    main()\n"
      ],
      "metadata": {
        "id": "hz0a8dcWF1k9"
      },
      "execution_count": null,
      "outputs": []
    }
  ]
}